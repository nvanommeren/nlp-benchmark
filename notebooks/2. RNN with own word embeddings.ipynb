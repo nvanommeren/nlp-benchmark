{
 "cells": [
  {
   "cell_type": "code",
   "execution_count": 7,
   "metadata": {
    "ExecuteTime": {
     "end_time": "2020-04-09T07:47:33.443011Z",
     "start_time": "2020-04-09T07:47:33.439451Z"
    }
   },
   "outputs": [],
   "source": [
    "import pandas as pd \n",
    "import numpy as np\n",
    "import re\n",
    "\n",
    "from tensorflow.keras.layers import Masking, Input, LSTM, Flatten, Embedding, Dense, Dropout\n",
    "from tensorflow.keras.models import Model\n",
    "from tensorflow.keras import losses"
   ]
  },
  {
   "cell_type": "code",
   "execution_count": 2,
   "metadata": {
    "ExecuteTime": {
     "end_time": "2020-04-09T07:46:39.756749Z",
     "start_time": "2020-04-09T07:46:39.100109Z"
    }
   },
   "outputs": [
    {
     "data": {
      "text/html": [
       "<div>\n",
       "<style scoped>\n",
       "    .dataframe tbody tr th:only-of-type {\n",
       "        vertical-align: middle;\n",
       "    }\n",
       "\n",
       "    .dataframe tbody tr th {\n",
       "        vertical-align: top;\n",
       "    }\n",
       "\n",
       "    .dataframe thead th {\n",
       "        text-align: right;\n",
       "    }\n",
       "</style>\n",
       "<table border=\"1\" class=\"dataframe\">\n",
       "  <thead>\n",
       "    <tr style=\"text-align: right;\">\n",
       "      <th></th>\n",
       "      <th>review</th>\n",
       "      <th>sentiment</th>\n",
       "    </tr>\n",
       "  </thead>\n",
       "  <tbody>\n",
       "    <tr>\n",
       "      <th>0</th>\n",
       "      <td>One of the other reviewers has mentioned that ...</td>\n",
       "      <td>positive</td>\n",
       "    </tr>\n",
       "    <tr>\n",
       "      <th>1</th>\n",
       "      <td>A wonderful little production. &lt;br /&gt;&lt;br /&gt;The...</td>\n",
       "      <td>positive</td>\n",
       "    </tr>\n",
       "    <tr>\n",
       "      <th>2</th>\n",
       "      <td>I thought this was a wonderful way to spend ti...</td>\n",
       "      <td>positive</td>\n",
       "    </tr>\n",
       "    <tr>\n",
       "      <th>3</th>\n",
       "      <td>Basically there's a family where a little boy ...</td>\n",
       "      <td>negative</td>\n",
       "    </tr>\n",
       "    <tr>\n",
       "      <th>4</th>\n",
       "      <td>Petter Mattei's \"Love in the Time of Money\" is...</td>\n",
       "      <td>positive</td>\n",
       "    </tr>\n",
       "  </tbody>\n",
       "</table>\n",
       "</div>"
      ],
      "text/plain": [
       "                                              review sentiment\n",
       "0  One of the other reviewers has mentioned that ...  positive\n",
       "1  A wonderful little production. <br /><br />The...  positive\n",
       "2  I thought this was a wonderful way to spend ti...  positive\n",
       "3  Basically there's a family where a little boy ...  negative\n",
       "4  Petter Mattei's \"Love in the Time of Money\" is...  positive"
      ]
     },
     "execution_count": 2,
     "metadata": {},
     "output_type": "execute_result"
    }
   ],
   "source": [
    "df = pd.read_csv('../data/IMDB Dataset.csv')\n",
    "\n",
    "def preprocess_imdb_raw_data(x):\n",
    "    x = re.sub(\"<br\\\\s*/?>\", \" \", x)\n",
    "    return x \n",
    "\n",
    "X = [preprocess_imdb_raw_data(x) for x in df['review'].values]\n",
    "\n",
    "y = df['sentiment'].apply(lambda x: int(x == 'positive')).values\n",
    "\n",
    "df.head()"
   ]
  },
  {
   "cell_type": "markdown",
   "metadata": {},
   "source": [
    "Make an RNN based model and fit the word embeddings yourself\n",
    "\n",
    "* https://machinelearningmastery.com/binary-classification-tutorial-with-the-keras-deep-learning-library/"
   ]
  },
  {
   "cell_type": "markdown",
   "metadata": {},
   "source": [
    "# Preprocessing"
   ]
  },
  {
   "cell_type": "code",
   "execution_count": 3,
   "metadata": {
    "ExecuteTime": {
     "end_time": "2020-04-09T07:46:58.766734Z",
     "start_time": "2020-04-09T07:46:43.929779Z"
    }
   },
   "outputs": [],
   "source": [
    "from tensorflow.keras.preprocessing.text import Tokenizer\n",
    "\n",
    "MAX_SEQ_LENGTH = 200\n",
    "MAX_WORDS_VOCAB = 10000\n",
    "\n",
    "tokenizer = Tokenizer(num_words=MAX_WORDS_VOCAB, oov_token=0)\n",
    "tokenizer.fit_on_texts(X)\n",
    "\n",
    "X_tokenized = tokenizer.texts_to_sequences(X)"
   ]
  },
  {
   "cell_type": "code",
   "execution_count": 4,
   "metadata": {
    "ExecuteTime": {
     "end_time": "2020-04-09T07:47:02.093093Z",
     "start_time": "2020-04-09T07:47:01.500382Z"
    }
   },
   "outputs": [
    {
     "data": {
      "text/plain": [
       "(50000, 200)"
      ]
     },
     "execution_count": 4,
     "metadata": {},
     "output_type": "execute_result"
    }
   ],
   "source": [
    "from tensorflow.keras.preprocessing.sequence import pad_sequences\n",
    "\n",
    "X_padded = pad_sequences(X_tokenized, maxlen=MAX_SEQ_LENGTH)\n",
    "\n",
    "X_padded.shape"
   ]
  },
  {
   "cell_type": "code",
   "execution_count": 5,
   "metadata": {
    "ExecuteTime": {
     "end_time": "2020-04-09T07:47:07.107820Z",
     "start_time": "2020-04-09T07:47:04.915970Z"
    }
   },
   "outputs": [],
   "source": [
    "from sklearn.model_selection import train_test_split\n",
    "\n",
    "X_train, X_test, y_train, y_test = train_test_split(X_padded, y, test_size=0.2, random_state=1)"
   ]
  },
  {
   "cell_type": "markdown",
   "metadata": {},
   "source": [
    "# RNN Model"
   ]
  },
  {
   "cell_type": "code",
   "execution_count": 56,
   "metadata": {
    "ExecuteTime": {
     "end_time": "2020-04-05T17:11:20.880457Z",
     "start_time": "2020-04-05T17:11:20.690172Z"
    }
   },
   "outputs": [
    {
     "name": "stdout",
     "output_type": "stream",
     "text": [
      "Model: \"model_3\"\n",
      "_________________________________________________________________\n",
      "Layer (type)                 Output Shape              Param #   \n",
      "=================================================================\n",
      "input_4 (InputLayer)         [(None, 200)]             0         \n",
      "_________________________________________________________________\n",
      "masking_3 (Masking)          (None, 200)               0         \n",
      "_________________________________________________________________\n",
      "embedding_3 (Embedding)      (None, 200, 200)          2000000   \n",
      "_________________________________________________________________\n",
      "lstm_3 (LSTM)                (None, 128)               168448    \n",
      "_________________________________________________________________\n",
      "dense_6 (Dense)              (None, 128)               16512     \n",
      "_________________________________________________________________\n",
      "dropout_3 (Dropout)          (None, 128)               0         \n",
      "_________________________________________________________________\n",
      "dense_7 (Dense)              (None, 1)                 129       \n",
      "=================================================================\n",
      "Total params: 2,185,089\n",
      "Trainable params: 2,185,089\n",
      "Non-trainable params: 0\n",
      "_________________________________________________________________\n",
      "None\n"
     ]
    }
   ],
   "source": [
    "\n",
    "\n",
    "def make_model(input_size=MAX_SEQ_LENGTH, \n",
    "               embedding_dim=MAX_WORDS_VOCAB, \n",
    "               dense_layer_size=128, \n",
    "               dropout_probs=0.2):\n",
    "\n",
    "    inp = Input(shape=[input_size])  \n",
    "\n",
    "    x = Masking(mask_value=0)(inp)\n",
    "    \n",
    "    x = Embedding(input_dim=embedding_dim, output_dim=input_size)(x)\n",
    "    \n",
    "    x = LSTM(dense_layer_size)(x)\n",
    "    x = Dense(dense_layer_size, activation=\"relu\")(x)\n",
    "    \n",
    "    x = Dropout(dropout_probs)(x)\n",
    "    out = Dense(1, activation=\"sigmoid\")(x)\n",
    "\n",
    "    model = Model(inp, out)\n",
    "    print(model.summary())\n",
    "    \n",
    "    model.compile(\"adam\", loss=losses.binary_crossentropy, metrics=['accuracy'])\n",
    "    \n",
    "    return model\n",
    "\n",
    "model = make_model()\n"
   ]
  },
  {
   "cell_type": "markdown",
   "metadata": {},
   "source": [
    "* https://arxiv.org/pdf/1511.08630.pdf: A C-LSTM Neural Network for Text Classification\n",
    "* https://github.com/bicepjai/Deep-Survey-Text-Classification/tree/master/deep_models/paper_14_clstm"
   ]
  },
  {
   "cell_type": "code",
   "execution_count": null,
   "metadata": {
    "ExecuteTime": {
     "start_time": "2020-04-09T07:47:45.544Z"
    }
   },
   "outputs": [
    {
     "name": "stdout",
     "output_type": "stream",
     "text": [
      "Model: \"model\"\n",
      "_________________________________________________________________\n",
      "Layer (type)                 Output Shape              Param #   \n",
      "=================================================================\n",
      "input_1 (InputLayer)         [(None, 200)]             0         \n",
      "_________________________________________________________________\n",
      "masking (Masking)            (None, 200)               0         \n",
      "_________________________________________________________________\n",
      "embedding (Embedding)        (None, 200, 200)          2000000   \n",
      "_________________________________________________________________\n",
      "conv1d (Conv1D)              (None, 198, 150)          90150     \n",
      "_________________________________________________________________\n",
      "lstm (LSTM)                  (None, 150)               180600    \n",
      "_________________________________________________________________\n",
      "dropout (Dropout)            (None, 150)               0         \n",
      "_________________________________________________________________\n",
      "dense (Dense)                (None, 1)                 151       \n",
      "=================================================================\n",
      "Total params: 2,270,901\n",
      "Trainable params: 2,270,901\n",
      "Non-trainable params: 0\n",
      "_________________________________________________________________\n",
      "None\n",
      "Train on 40000 samples\n",
      "Epoch 1/8\n",
      "40000/40000 [==============================] - 168s 4ms/sample - loss: 0.4700 - accuracy: 0.7788\n",
      "Epoch 2/8\n",
      "40000/40000 [==============================] - 174s 4ms/sample - loss: 0.2506 - accuracy: 0.9048\n",
      "Epoch 3/8\n",
      "23520/40000 [================>.............] - ETA: 1:07 - loss: 0.1814 - accuracy: 0.9395"
     ]
    }
   ],
   "source": [
    "from tensorflow.keras.layers import Conv1D\n",
    "\n",
    "# Size of word vectors = 300\n",
    "\n",
    "def make_clstm_model(input_size=MAX_SEQ_LENGTH,\n",
    "                     embedding_dim=MAX_WORDS_VOCAB, \n",
    "):\n",
    "    \n",
    "    inp = Input(shape=input_size)  \n",
    "    \n",
    "    x = Masking(mask_value=0)(inp)\n",
    "    \n",
    "    x = Embedding(input_dim=embedding_dim, output_dim=input_size)(x)\n",
    "    \n",
    "    # This layer was active in the paper\n",
    "    x = Conv1D(filters=150, kernel_size=3, activation='relu')(x) # , padding='valid'\n",
    "    \n",
    "    x = LSTM(units=150, activation='tanh', recurrent_activation='sigmoid')(x)\n",
    "\n",
    "    # This layer was active in the paper\n",
    "    x = Dropout(rate=0.5)(x)\n",
    "    \n",
    "    out = Dense(1, activation='sigmoid', activity_regularizer='l2')(x) #  activation=\"softmax\" does not work!\n",
    "      \n",
    "    model2 = Model(inp, out)\n",
    "    print(model2.summary())\n",
    "    \n",
    "    # TODO SGD with RMS PROP\n",
    "    model2.compile(\"adam\", loss=losses.binary_crossentropy, metrics=['accuracy'])\n",
    "    \n",
    "    return model2\n",
    "\n",
    "model2 = make_clstm_model()\n",
    "model2.fit(X_train, y_train, epochs=8)"
   ]
  },
  {
   "cell_type": "code",
   "execution_count": 68,
   "metadata": {
    "ExecuteTime": {
     "end_time": "2020-04-05T17:43:48.719471Z",
     "start_time": "2020-04-05T17:41:25.152114Z"
    }
   },
   "outputs": [
    {
     "name": "stdout",
     "output_type": "stream",
     "text": [
      "Train on 40000 samples\n",
      "40000/40000 [==============================] - 144s 4ms/sample - loss: 0.1348 - accuracy: 0.9512\n"
     ]
    },
    {
     "data": {
      "text/plain": [
       "<tensorflow.python.keras.callbacks.History at 0x1480a8080>"
      ]
     },
     "execution_count": 68,
     "metadata": {},
     "output_type": "execute_result"
    }
   ],
   "source": [
    "model.fit(x=X_train, y=y_train, epochs=1,) # validation_split=0.1"
   ]
  },
  {
   "cell_type": "code",
   "execution_count": 69,
   "metadata": {
    "ExecuteTime": {
     "end_time": "2020-04-05T17:47:49.431198Z",
     "start_time": "2020-04-05T17:47:49.399862Z"
    }
   },
   "outputs": [],
   "source": [
    "def save_model(model, filedir='../models'):\n",
    "    \n",
    "    with open(f\"{filedir}/rnn_model.json\", \"w\") as json_file:\n",
    "        json_file.write(model.to_json())\n",
    "\n",
    "    model.save_weights(f\"{filedir}/rnn_model.h5\")\n",
    "    \n",
    "def load_model(filedir='../models'):\n",
    "\n",
    "    json_file = open(f\"{filedir}/rnn_model.json\", 'r')\n",
    "    loaded_model_json = json_file.read()\n",
    "    json_file.close()\n",
    "    \n",
    "    loaded_model = model_from_json(loaded_model_json)\n",
    "    loaded_model.load_weights(f\"{filedir}/rnn_model.h5\")\n",
    "    \n",
    "    return loaded_model\n",
    "\n",
    "save_model(model)"
   ]
  },
  {
   "cell_type": "markdown",
   "metadata": {},
   "source": [
    "# Evaluation"
   ]
  },
  {
   "cell_type": "code",
   "execution_count": 70,
   "metadata": {
    "ExecuteTime": {
     "end_time": "2020-04-05T17:48:07.558932Z",
     "start_time": "2020-04-05T17:47:58.285434Z"
    }
   },
   "outputs": [
    {
     "name": "stdout",
     "output_type": "stream",
     "text": [
      "Test:               precision    recall  f1-score   support\n",
      "\n",
      "           0       0.86      0.91      0.88      5044\n",
      "           1       0.91      0.84      0.87      4956\n",
      "\n",
      "    accuracy                           0.88     10000\n",
      "   macro avg       0.88      0.88      0.88     10000\n",
      "weighted avg       0.88      0.88      0.88     10000\n",
      "\n"
     ]
    }
   ],
   "source": [
    "from sklearn.metrics import classification_report\n",
    "\n",
    "y_test_probs = model.predict(x=X_test)\n",
    "y_test_pred = (y_test_probs >= 0.5).astype(int)\n",
    "\n",
    "print(f\"Test: {classification_report(y_test, y_test_pred)}\")"
   ]
  },
  {
   "cell_type": "code",
   "execution_count": 71,
   "metadata": {
    "ExecuteTime": {
     "end_time": "2020-04-05T17:48:55.167475Z",
     "start_time": "2020-04-05T17:48:16.115217Z"
    }
   },
   "outputs": [
    {
     "name": "stdout",
     "output_type": "stream",
     "text": [
      "Train:               precision    recall  f1-score   support\n",
      "\n",
      "           0       0.96      0.99      0.97     19956\n",
      "           1       0.99      0.96      0.97     20044\n",
      "\n",
      "    accuracy                           0.97     40000\n",
      "   macro avg       0.97      0.97      0.97     40000\n",
      "weighted avg       0.97      0.97      0.97     40000\n",
      "\n"
     ]
    }
   ],
   "source": [
    "y_train_probs = model.predict(x=X_train)\n",
    "y_train_pred = (y_train_probs >= 0.5).astype(int)\n",
    "\n",
    "print(f\"Train: {classification_report(y_train, y_train_pred)}\")"
   ]
  },
  {
   "cell_type": "markdown",
   "metadata": {},
   "source": [
    "## Keras evaluation"
   ]
  },
  {
   "cell_type": "code",
   "execution_count": 61,
   "metadata": {
    "ExecuteTime": {
     "end_time": "2020-04-05T17:18:30.575930Z",
     "start_time": "2020-04-05T17:17:51.173247Z"
    }
   },
   "outputs": [
    {
     "name": "stdout",
     "output_type": "stream",
     "text": [
      "accuracy: 90.76%\n"
     ]
    }
   ],
   "source": [
    "scores = model.evaluate(X_train, y_train, verbose=0)\n",
    "print(\"%s: %.2f%%\" % (model.metrics_names[1], scores[1]*100))"
   ]
  }
 ],
 "metadata": {
  "kernelspec": {
   "display_name": "Python 3",
   "language": "python",
   "name": "python3"
  },
  "language_info": {
   "codemirror_mode": {
    "name": "ipython",
    "version": 3
   },
   "file_extension": ".py",
   "mimetype": "text/x-python",
   "name": "python",
   "nbconvert_exporter": "python",
   "pygments_lexer": "ipython3",
   "version": "3.6.9"
  },
  "toc": {
   "base_numbering": 1,
   "nav_menu": {},
   "number_sections": true,
   "sideBar": true,
   "skip_h1_title": false,
   "title_cell": "Table of Contents",
   "title_sidebar": "Contents",
   "toc_cell": false,
   "toc_position": {},
   "toc_section_display": true,
   "toc_window_display": true
  },
  "varInspector": {
   "cols": {
    "lenName": 16,
    "lenType": 16,
    "lenVar": 40
   },
   "kernels_config": {
    "python": {
     "delete_cmd_postfix": "",
     "delete_cmd_prefix": "del ",
     "library": "var_list.py",
     "varRefreshCmd": "print(var_dic_list())"
    },
    "r": {
     "delete_cmd_postfix": ") ",
     "delete_cmd_prefix": "rm(",
     "library": "var_list.r",
     "varRefreshCmd": "cat(var_dic_list()) "
    }
   },
   "types_to_exclude": [
    "module",
    "function",
    "builtin_function_or_method",
    "instance",
    "_Feature"
   ],
   "window_display": false
  }
 },
 "nbformat": 4,
 "nbformat_minor": 2
}
